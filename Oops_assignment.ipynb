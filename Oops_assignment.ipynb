{
  "nbformat": 4,
  "nbformat_minor": 0,
  "metadata": {
    "colab": {
      "provenance": []
    },
    "kernelspec": {
      "name": "python3",
      "display_name": "Python 3"
    },
    "language_info": {
      "name": "python"
    }
  },
  "cells": [
    {
      "cell_type": "markdown",
      "source": [
        "#Theory\n",
        "\n",
        " Q1. What is Object-Oriented Programming(OOP)?\n",
        "\n",
        "   ->  Object-Oriented Programming (OOP) is a programming paradigm based on the concept of “objects”, which can contain data (attributes) and  code (methods).\n",
        "\n",
        "\n"
      ],
      "metadata": {
        "id": "Hy0IV4Wo0A1t"
      }
    },
    {
      "cell_type": "code",
      "metadata": {
        "colab": {
          "base_uri": "https://localhost:8080/"
        },
        "id": "5a3bf0d4",
        "outputId": "2bd6db58-7233-4171-c34d-6b2a95411fc0"
      },
      "source": [
        "# Define a class called Dog\n",
        "class Dog:\n",
        "    # The __init__ method is the constructor for the class.\n",
        "    # It is called when you create a new object (instance) of the class.\n",
        "    def __init__(self, name, breed):\n",
        "        self.name = name  # Instance variable to store the dog's name\n",
        "        self.breed = breed # Instance variable to store the dog's breed\n",
        "\n",
        "    # A method (function within a class) to make the dog bark\n",
        "    def bark(self):\n",
        "        print(f\"{self.name} says Woof!\")\n",
        "\n",
        "    # A method to describe the dog\n",
        "    def describe(self):\n",
        "        print(f\"{self.name} is a {self.breed}.\")\n",
        "\n",
        "# Create objects (instances) of the Dog class\n",
        "my_dog = Dog(\"Buddy\", \"Golden Retriever\")\n",
        "your_dog = Dog(\"Lucy\", \"Beagle\")\n",
        "\n",
        "# Access object attributes and call object methods\n",
        "my_dog.describe()\n",
        "my_dog.bark()\n",
        "\n",
        "your_dog.describe()\n",
        "your_dog.bark()"
      ],
      "execution_count": null,
      "outputs": [
        {
          "output_type": "stream",
          "name": "stdout",
          "text": [
            "Buddy is a Golden Retriever.\n",
            "Buddy says Woof!\n",
            "Lucy is a Beagle.\n",
            "Lucy says Woof!\n"
          ]
        }
      ]
    },
    {
      "cell_type": "markdown",
      "source": [
        " Q2. What is a Class in OOP?\n",
        "      ->  A class in Object-Oriented Programming (OOP) is a blueprint or template that defines how to create objects.\n",
        "       It describes the attributes (data/properties) and methods (functions/behaviors) that the objects of that class will have.\n"
      ],
      "metadata": {
        "id": "yHBjIbLH16JT"
      }
    },
    {
      "cell_type": "code",
      "metadata": {
        "colab": {
          "base_uri": "https://localhost:8080/"
        },
        "id": "cfdd263d",
        "outputId": "95d3abbe-feb8-456b-e8d7-9985343e109f"
      },
      "source": [
        "# Define a class called Car\n",
        "class Car:\n",
        "    # Constructor with attributes make, model, and year\n",
        "    def __init__(self, make, model, year):\n",
        "        self.make = make\n",
        "        self.model = model\n",
        "        self.year = year\n",
        "        self.is_running = False # Initial state of the car\n",
        "\n",
        "    # Method to start the car\n",
        "    def start(self):\n",
        "        if not self.is_running:\n",
        "            print(f\"The {self.year} {self.make} {self.model} is starting.\")\n",
        "            self.is_running = True\n",
        "        else:\n",
        "            print(f\"The {self.year} {self.make} {self.model} is already running.\")\n",
        "\n",
        "    # Method to stop the car\n",
        "    def stop(self):\n",
        "        if self.is_running:\n",
        "            print(f\"The {self.year} {self.make} {self.model} is stopping.\")\n",
        "            self.is_running = False\n",
        "        else:\n",
        "            print(f\"The {self.year} {self.make} {self.model} is already stopped.\")\n",
        "\n",
        "    # Method to display car information\n",
        "    def display_info(self):\n",
        "        print(f\"Car: {self.year} {self.make} {self.model}\")\n",
        "        print(f\"Status: {'Running' if self.is_running else 'Stopped'}\")\n",
        "\n",
        "# Create objects of the Car class\n",
        "car1 = Car(\"Toyota\", \"Camry\", 2020)\n",
        "car2 = Car(\"Honda\", \"Civic\", 2018)\n",
        "\n",
        "# Interact with the car objects\n",
        "car1.display_info()\n",
        "car1.start()\n",
        "car1.display_info()\n",
        "car1.stop()\n",
        "car1.display_info()\n",
        "\n",
        "print(\"-\" * 20) # Separator\n",
        "\n",
        "car2.display_info()\n",
        "car2.start()\n",
        "car2.start() # Try starting again\n",
        "car2.stop()\n",
        "car2.stop() # Try stopping again\n",
        "car2.display_info()"
      ],
      "execution_count": null,
      "outputs": [
        {
          "output_type": "stream",
          "name": "stdout",
          "text": [
            "Car: 2020 Toyota Camry\n",
            "Status: Stopped\n",
            "The 2020 Toyota Camry is starting.\n",
            "Car: 2020 Toyota Camry\n",
            "Status: Running\n",
            "The 2020 Toyota Camry is stopping.\n",
            "Car: 2020 Toyota Camry\n",
            "Status: Stopped\n",
            "--------------------\n",
            "Car: 2018 Honda Civic\n",
            "Status: Stopped\n",
            "The 2018 Honda Civic is starting.\n",
            "The 2018 Honda Civic is already running.\n",
            "The 2018 Honda Civic is stopping.\n",
            "The 2018 Honda Civic is already stopped.\n",
            "Car: 2018 Honda Civic\n",
            "Status: Stopped\n"
          ]
        }
      ]
    },
    {
      "cell_type": "markdown",
      "source": [
        " Q3. What is an Object in OOP?\n",
        "      -> An object in Object-Oriented Programming (OOP) is a real-world entity or an instance of a class.\n",
        "       It represents something that has state (data/attributes) and behavior (methods/functions).\n"
      ],
      "metadata": {
        "id": "RQRRCq2p2d5y"
      }
    },
    {
      "cell_type": "code",
      "source": [
        "\n",
        " # Class definition\n",
        " class Car:\n",
        "    def __init__(self, brand, color):\n",
        "        self.brand = brand      # attribute\n",
        "        self.color = color      # attribute\n",
        "\n",
        "    def drive(self):            # method\n",
        "        return f\"{self.brand} car is driving!\"\n",
        " # Creating objects (instances of Car)\n",
        " car1 = Car(\"Tesla\", \"Red\")\n",
        " car2 = Car(\"BMW\", \"Black\")\n",
        " # Accessing attributes and methods\n",
        " print(car1.brand)         # Output: Tesla\n",
        " print(car2.color)         # Output: Black\n",
        " print(car1.drive())       # Output: Tesla car is driving"
      ],
      "metadata": {
        "colab": {
          "base_uri": "https://localhost:8080/"
        },
        "id": "sT-zRtP63pM0",
        "outputId": "bd7c024e-49d8-4468-8e89-9119ee8ea9a2"
      },
      "execution_count": null,
      "outputs": [
        {
          "output_type": "stream",
          "name": "stdout",
          "text": [
            "Tesla\n",
            "Black\n",
            "Tesla car is driving!\n"
          ]
        }
      ]
    },
    {
      "cell_type": "markdown",
      "source": [
        " Q4. What is the Difference between Abstraction and Encapsulation?\n",
        "     ->"
      ],
      "metadata": {
        "id": "foVGSKro3yfp"
      }
    },
    {
      "cell_type": "markdown",
      "metadata": {
        "id": "7168eca4"
      },
      "source": [
        "| Feature        | Abstraction                               | Encapsulation                                   |\n",
        "|----------------|-------------------------------------------|-------------------------------------------------|\n",
        "| **Purpose**    | Hide complexity, show essentials.         | Bundle data and methods in a unit (class).      |\n",
        "| **Focus**      | Hiding complexity                         | Binding data and methods                        |\n",
        "| **What it does**| Deals with **what** the object does       | Deals with **how** data is protected/accessed   |\n",
        "| **Example**    | Driving a car (using controls without knowing engine). | Class with private data and public methods. |"
      ]
    },
    {
      "cell_type": "markdown",
      "metadata": {
        "id": "b02e3f0f"
      },
      "source": [
        "### Example of Abstraction"
      ]
    },
    {
      "cell_type": "code",
      "metadata": {
        "colab": {
          "base_uri": "https://localhost:8080/"
        },
        "id": "6dc676c4",
        "outputId": "558ed630-7973-4efe-da30-0b35cd38f8bf"
      },
      "source": [
        "from abc import ABC, abstractmethod\n",
        "\n",
        "# Abstract class\n",
        "class Vehicle(ABC):\n",
        "    @abstractmethod\n",
        "    def start(self):\n",
        "        pass\n",
        "\n",
        "    @abstractmethod\n",
        "    def stop(self):\n",
        "        pass\n",
        "\n",
        "    def drive(self):\n",
        "        print(\"Vehicle is driving.\")\n",
        "\n",
        "# Concrete class inheriting from Vehicle\n",
        "class Car(Vehicle):\n",
        "    def start(self):\n",
        "        print(\"Car engine started.\")\n",
        "\n",
        "    def stop(self):\n",
        "        print(\"Car engine stopped.\")\n",
        "\n",
        "# We can create a Car object, but not a Vehicle object directly\n",
        "my_car = Car()\n",
        "my_car.start()\n",
        "my_car.drive()\n",
        "my_car.stop()\n",
        "\n",
        "# Trying to instantiate the abstract class would raise an error\n",
        "# abstract_vehicle = Vehicle() # This would cause a TypeError"
      ],
      "execution_count": null,
      "outputs": [
        {
          "output_type": "stream",
          "name": "stdout",
          "text": [
            "Car engine started.\n",
            "Vehicle is driving.\n",
            "Car engine stopped.\n"
          ]
        }
      ]
    },
    {
      "cell_type": "markdown",
      "metadata": {
        "id": "a5409bb7"
      },
      "source": [
        "### Example of Encapsulation"
      ]
    },
    {
      "cell_type": "code",
      "metadata": {
        "colab": {
          "base_uri": "https://localhost:8080/"
        },
        "id": "fdfb34aa",
        "outputId": "51c5b04f-5ad7-4b7a-f923-05b1c81443c0"
      },
      "source": [
        "class BankAccount:\n",
        "    def __init__(self, balance):\n",
        "        # Private attribute (indicated by __)\n",
        "        self.__balance = balance\n",
        "\n",
        "    # Public method to get the balance\n",
        "    def get_balance(self):\n",
        "        return self.__balance\n",
        "\n",
        "    # Public method to deposit\n",
        "    def deposit(self, amount):\n",
        "        if amount > 0:\n",
        "            self.__balance += amount\n",
        "            print(f\"Deposited: {amount}. New balance: {self.__balance}\")\n",
        "        else:\n",
        "            print(\"Deposit amount must be positive.\")\n",
        "\n",
        "    # Public method to withdraw\n",
        "    def withdraw(self, amount):\n",
        "        if amount > 0 and amount <= self.__balance:\n",
        "            self.__balance -= amount\n",
        "            print(f\"Withdrew: {amount}. New balance: {self.__balance}\")\n",
        "        elif amount > self.__balance:\n",
        "            print(\"Insufficient funds.\")\n",
        "        else:\n",
        "            print(\"Withdrawal amount must be positive.\")\n",
        "\n",
        "# Create an object of BankAccount\n",
        "account = BankAccount(1000)\n",
        "\n",
        "# Accessing balance using the public method (Encapsulation)\n",
        "print(f\"Initial balance: {account.get_balance()}\")\n",
        "\n",
        "account.deposit(500)\n",
        "account.withdraw(200)\n",
        "account.withdraw(2000) # This will show insufficient funds\n",
        "\n",
        "# Trying to access the private attribute directly might not work as expected\n",
        "# print(account.__balance) # This would raise an AttributeError in Python"
      ],
      "execution_count": null,
      "outputs": [
        {
          "output_type": "stream",
          "name": "stdout",
          "text": [
            "Initial balance: 1000\n",
            "Deposited: 500. New balance: 1500\n",
            "Withdrew: 200. New balance: 1300\n",
            "Insufficient funds.\n"
          ]
        }
      ]
    },
    {
      "cell_type": "markdown",
      "source": [
        " Q5. What are Dunder Methods in Python?\n",
        "         ->Dunder methods, also known as magic methods or special methods, are predefined methods in Python that have double underscores at the beginning and end of their names (e.g., __init__, __str__, __add__). They are not meant to be called directly by you, but rather are invoked automatically by Python in response to certain operations or events. They allow you to define how your objects behave with built-in functions and operators.\n",
        "\n",
        "\n"
      ],
      "metadata": {
        "id": "eR_qP6BO4lWb"
      }
    },
    {
      "cell_type": "code",
      "metadata": {
        "colab": {
          "base_uri": "https://localhost:8080/"
        },
        "id": "84a6dbb0",
        "outputId": "bf87aa85-ffd2-4884-9bf2-06af3fb892f7"
      },
      "source": [
        "class Book:\n",
        "    def __init__(self, title, author, pages):\n",
        "        # __init__ is a dunder method (constructor)\n",
        "        self.title = title\n",
        "        self.author = author\n",
        "        self.pages = pages\n",
        "\n",
        "    def __str__(self):\n",
        "        # __str__ is a dunder method for providing a string representation of the object\n",
        "        return f\"{self.title} by {self.author}, {self.pages} pages\"\n",
        "\n",
        "    def __len__(self):\n",
        "        # __len__ is a dunder method for defining the length of the object\n",
        "        return self.pages\n",
        "\n",
        "# Creating a Book object\n",
        "book1 = Book(\"The Hitchhiker's Guide to the Galaxy\", \"Douglas Adams\", 224)\n",
        "\n",
        "# Using dunder methods implicitly\n",
        "print(book1)       # Calls book1.__str__()\n",
        "print(len(book1))  # Calls book1.__len__()"
      ],
      "execution_count": null,
      "outputs": [
        {
          "output_type": "stream",
          "name": "stdout",
          "text": [
            "The Hitchhiker's Guide to the Galaxy by Douglas Adams, 224 pages\n",
            "224\n"
          ]
        }
      ]
    },
    {
      "cell_type": "markdown",
      "source": [
        " Q6. Explain the Concept of Inheritance in OOP?\n",
        "          ->Inheritance is a fundamental concept in Object-Oriented Programming that allows a new class (called the child class or derived class) to inherit attributes and methods from an existing class (called the parent class or base class).\n",
        "\n"
      ],
      "metadata": {
        "id": "LH4UmpP25A0i"
      }
    },
    {
      "cell_type": "code",
      "metadata": {
        "colab": {
          "base_uri": "https://localhost:8080/"
        },
        "id": "3c931d0b",
        "outputId": "1019230e-02a4-4aca-8287-7707dcc4685b"
      },
      "source": [
        "# Parent class (Base class)\n",
        "class Animal:\n",
        "    def __init__(self, name):\n",
        "        self.name = name\n",
        "\n",
        "    def speak(self):\n",
        "        pass # This method will be overridden by child classes\n",
        "\n",
        "# Child class (Derived class) inheriting from Animal\n",
        "class Dog(Animal):\n",
        "    def speak(self):\n",
        "        return f\"{self.name} says Woof!\"\n",
        "\n",
        "# Child class (Derived class) inheriting from Animal\n",
        "class Cat(Animal):\n",
        "    def speak(self):\n",
        "        return f\"{self.name} says Meow!\"\n",
        "\n",
        "# Create objects of the child classes\n",
        "dog = Dog(\"Buddy\")\n",
        "cat = Cat(\"Whiskers\")\n",
        "\n",
        "# Call the speak method on the objects\n",
        "print(dog.speak())\n",
        "print(cat.speak())"
      ],
      "execution_count": null,
      "outputs": [
        {
          "output_type": "stream",
          "name": "stdout",
          "text": [
            "Buddy says Woof!\n",
            "Whiskers says Meow!\n"
          ]
        }
      ]
    },
    {
      "cell_type": "markdown",
      "source": [
        " Q7. What is Polymorphism in OOP?\n",
        "        ->Polymorphism means \"many forms\". In OOP, it refers to the ability of different objects to respond to the same method call in their own specific way. This means you can perform a single action, and that action will behave differently depending on the object it is performed on. This allows for more flexible and generic code.\n",
        "\n"
      ],
      "metadata": {
        "id": "91ieSW1c5Vt3"
      }
    },
    {
      "cell_type": "code",
      "source": [
        "Example 1: Method Overriding (Run-time Polymorphism)\n",
        " class Animal:\n",
        "    def speak(self):\n",
        "        return \"Some sound\"\n",
        " class Dog(Animal):\n",
        "    def speak(self):\n",
        "        return \"Woof!\"\n",
        " class Cat(Animal):\n",
        "    def speak(self):\n",
        "        return \"Meow!\"\n",
        " # Same method name → different outputs\n",
        " animals = [Dog(), Cat(), Animal()]\n",
        " for a in animals:\n",
        "    print(a.speak())\n",
        " # Output\n",
        " Woof!\n",
        " Meow!\n",
        " Some sound\n",
        " Example 2: Polymorphism with Built-in Functions\n",
        " print(len(\"Ritesh\"))      # len() works with string → 6\n",
        " print(len([1, 2, 3, 4]))  # len() works with list   → 4\n"
      ],
      "metadata": {
        "id": "KN4mkO9L53GK"
      },
      "execution_count": null,
      "outputs": []
    },
    {
      "cell_type": "markdown",
      "source": [
        " Q8. How is Encapsulation achieved in Python?\n",
        "        ->In Python, encapsulation is typically achieved through the use of naming conventions and property methods, rather than strict access modifiers like public, private, or protected found in some other languages.\n",
        "\n",
        "        Here's how it's generally done:\n",
        "        Public attributes/methods: By default, all attributes and methods in a Python class are considered public. They can be accessed and modified from outside the class.\n",
        "        \"Protected\" attributes/methods: A single leading underscore (_) is used to indicate that an attribute or method is intended for internal use within the class or by subclasses. This is a convention, and the attribute/method can still be accessed from outside, but it signals that it shouldn't be.\n",
        "        \"Private\" attributes/methods: A double leading underscore (__) is used to \"mangle\" the name of an attribute or method. This makes it harder (though not impossible) to access from outside the class directly, providing a form of name-based protection.\n",
        "        Additionally, getter and setter methods (often implemented using the @property decorator) are commonly used to control access to attributes and provide a more encapsulated way of interacting with an object's state.\n",
        "\n"
      ],
      "metadata": {
        "id": "Vd_iGPlU6PX5"
      }
    },
    {
      "cell_type": "markdown",
      "source": [
        " Q9. What is a Constructor in Python?\n",
        "         -> A constructor in Python is a special method that is automatically called when an object of a class is created.\n",
        "          Its main job is to initialize the attributes (data members) of the object.\n"
      ],
      "metadata": {
        "id": "myB6uPPE63nz"
      }
    },
    {
      "cell_type": "code",
      "metadata": {
        "colab": {
          "base_uri": "https://localhost:8080/"
        },
        "id": "f6d42c65",
        "outputId": "e1c195a5-9e88-402a-856e-e7be0db93784"
      },
      "source": [
        "class Book:\n",
        "    # __init__ is the constructor\n",
        "    def __init__(self, title, author, pages):\n",
        "        self.title = title\n",
        "        self.author = author\n",
        "        self.pages = pages\n",
        "\n",
        "    def __str__(self):\n",
        "        return f\"{self.title} by {self.author}, {self.pages} pages\"\n",
        "\n",
        "# Creating a Book object calls the __init__ constructor\n",
        "book1 = Book(\"The Hitchhiker's Guide to the Galaxy\", \"Douglas Adams\", 224)\n",
        "\n",
        "print(book1)"
      ],
      "execution_count": null,
      "outputs": [
        {
          "output_type": "stream",
          "name": "stdout",
          "text": [
            "The Hitchhiker's Guide to the Galaxy by Douglas Adams, 224 pages\n"
          ]
        }
      ]
    },
    {
      "cell_type": "markdown",
      "source": [
        " Q10. What are Class and Static Methods in Python?\n",
        " ->1.Class Methods\n",
        " A class method is a method that is bound to the class itself, not the object.\n",
        " It can access and modify class-level attributes (shared across all objects).\n",
        " Defined using the\n",
        "@classmethod\n",
        " decorator.\n",
        " The first parameter is always\n",
        "cls\n",
        " (refers to the class).\n",
        " Example:\n",
        " class Student:\n",
        "    school = \"ABC Public School\"   # Class attribute\n",
        "    def __init__(self, name, age):\n",
        "        self.name = name\n",
        "        self.age = age\n",
        "    @classmethod\n",
        "    def change_school(cls, new_school):\n",
        "        cls.school = new_school   # modifies class-level data\n",
        " Using class method\n",
        " Student.change_school(\"XYZ International School\")\n",
        " print(Student.school)  # Output: XYZ International School\n",
        "\n",
        "2.Static Methods\n",
        " A static method does not depend on the class\n",
        "(cls)\n",
        " or instance\n",
        "(self)\n",
        " .\n",
        " Used when we want a utility/helper function inside a class.\n",
        " Defined using the\n",
        "@staticmethod\n",
        " decorator.\n",
        " Example:\n",
        "class MathOperations:\n",
        "    @staticmethod\n",
        "    def add(x, y):\n",
        "        return x + y\n",
        "    @staticmethod\n",
        "    def multiply(x, y):\n",
        "        return x * y\n",
        "  Using static methods\n",
        " print(MathOperations.add(5, 10))       # Output:  15\n",
        " print(MathOperations.multiply(3, 4))   # Output: 12\n",
        "\n"
      ],
      "metadata": {
        "id": "-P6Asf_S7fHY"
      }
    },
    {
      "cell_type": "markdown",
      "source": [
        " Q11. What is Method Overloading in Python?\n",
        "-> Method Overloading means having multiple methods with the same name but different parameters (like in Java/C++).\n",
        " Python does not support true method overloading because:\n",
        " The latest defined method with the same name will overwrite the previous ones.\n",
        " How Python Handles It\n",
        " Instead of true overloading, Python uses:\n",
        " 1. Default arguments\n",
        " 2. Variable-length arguments (\n",
        " *args\n",
        " ,\n",
        "**kwargs\n",
        " )\n",
        " This way, a single method can handle different numbers of parameters.\n",
        "\n",
        "  Example1: Default Arguments\n",
        " class Calculator:\n",
        "    def add(self, a=0, b=0, c=0):\n",
        "        return a + b + c\n",
        " calc = Calculator()\n",
        " print(calc.add(2))        # 2\n",
        " print(calc.add(2, 3))     # 5\n",
        " print(calc.add(2, 3, 4))  # 9\n",
        " Example2: Variable-Length Arguments\n",
        " class Calculator:\n",
        "    def add(self, *args):\n",
        "        return sum(args)\n",
        " calc = Calculator()\n",
        " print(calc.add(5))               # 5\n",
        " print(calc.add(2, 3, 4))         # 9\n",
        " print(calc.add(10, 20, 30, 40))  # 100"
      ],
      "metadata": {
        "id": "waO-mzRu9Ubr"
      }
    },
    {
      "cell_type": "markdown",
      "source": [
        " Q12. What is Method Overriding in OOP?\n",
        "   -> Method Overriding occurs when a child class provides a specific implementation of a method that is already defined in its parent\n",
        " class.\n",
        " The method in the child class must have:\n",
        " The same name\n",
        " The same number of parameters\n",
        " as the method in the parent class.\n",
        " Key Points\n",
        " 1. Method overriding is used to change or extend the behavior of a parent class method.\n",
        " 2. It supports Runtime Polymorphism (decision happens at runtime).\n",
        " 3. The parent class method is replaced (or extended) when called using a child class object.\n",
        " Example1: Basic Overriding\n",
        " class Animal:\n",
        "    def sound(self):\n",
        "        return \"Some generic sound\"\n",
        " class Dog(Animal):\n",
        "    def sound(self):  # Overriding the parent method\n",
        "     return \"Bark\"\n",
        " class Cat(Animal):\n",
        "    def sound(self):  # Overriding again\n",
        "        return \"Meow\"\n",
        "  Test\n",
        " dog = Dog()\n",
        " cat = Cat()\n",
        " print(dog.sound())  # Bark\n",
        " print(cat.sound())  # Meow\n",
        "\n",
        "  Example2: Using super() in Overriding\n",
        " class Vehicle:\n",
        "    def info(self):\n",
        "        return \"This is a vehicle.\"\n",
        " class Car(Vehicle):\n",
        "    def info(self):\n",
        "        # Extending parent method using super()\n",
        "        return super().info() + \" Specifically, it is a car.\"\n",
        "  Test\n",
        " car = Car()\n",
        " print(car.info())  # This is a vehicle. Specifically, it is a car\n",
        "\n"
      ],
      "metadata": {
        "id": "E8m0W7xQ9tPg"
      }
    },
    {
      "cell_type": "markdown",
      "source": [
        " Q13. What is a Property Decorator in Python?\n",
        " ->The @propertydecorator in Python is used to define methods in a class that can be accessed like attributes (without parentheses).\n",
        " It allows you to:\n",
        " 1. Encapsulate data (hide internal representation).\n",
        " 2. Provide getter, setter, and deleter functionality in a clean and Pythonic way\n",
        " This makes your class more readable and maintainable.\n",
        " Why Use @property?\n",
        " Sometimes you want to protect access to a variable and perform extra logic when getting or setting it.\n",
        " Instead of calling explicit methods (\n",
        " get_name()\n",
        " ,\n",
        "set_name()\n",
        " ), you can use\n",
        "@property\n",
        " to access them as if they were simple\n",
        " attributes.\n",
        "  Example: Using\n",
        "@property\n",
        " class Student:\n",
        "    def __init__(self, name):\n",
        "        self._name = name   # private variable convention\n",
        "    @property\n",
        "    def name(self):\n",
        "        return self._name   # getter\n",
        "    @name.setter\n",
        "    def name(self, value):\n",
        "        if not value.strip():     # validation\n",
        "            raise ValueError(\"Name cannot be empty!\")\n",
        "        self._name = value        # setter\n",
        "    @name.deleter\n",
        "    def name(self):\n",
        "        print(\"Deleting name...\")\n",
        "        del self._name\n",
        "  Test\n",
        " s = Student(\"Ritesh\")\n",
        " print(s.name)   # Access like attribute → Ritesh\n",
        " s.name = \"Aditi\"   # Calls setter  internally\n",
        " print(s.name)      # Aditi\n",
        " del s.name         # Calls deleter\n",
        " Key Points\n",
        " 1. @property\n",
        "→\n",
        " creates a getter method.\n",
        " 2. @name.setter\n",
        "→\n",
        " creates a setter method.\n",
        " 3. @name.deleter\n",
        "→\n",
        " creates a deleter method.\n",
        " 4. You access it like a normal attribute, but behind the scenes, methods are called."
      ],
      "metadata": {
        "id": "5-5Xe1Qk-UhP"
      }
    },
    {
      "cell_type": "markdown",
      "source": [
        " Q14. Why is Polymorphism Important in OOP?\n",
        "         -> Polymorphism means \"many forms\".\n",
        " In OOP, polymorphism allows the same interface (method/function) to work with different types of objects.\n",
        " Example: A method\n",
        "draw()\n",
        " can be defined in multiple classes (\n",
        " Circle\n",
        " ,\n",
        "Square\n",
        " ,\n",
        "Triangle\n",
        " ) but each class provides its own\n",
        " implementation.\n",
        " Importance of Polymorphism\n",
        " 1. Code Reusability\n",
        " Same function name can be used for different data types or classes.\n",
        " Reduces duplication in code.\n",
        " 2. Flexibility & Maintainability\n",
        " Makes code more extensible.\n",
        " New classes can be added without changing the existing code structure.\n",
        " 3. Readability Clearer and cleaner code because method names stay consistent.\n",
        " 4. Supports Dynamic Behavior\n",
        " Python resolves which method to call at runtime (dynamic polymorphism).\n",
        " This enables writing generic and reusable code.\n",
        " Example: Polymorphism in Action\n",
        " class Dog:\n",
        "    def sound(self):\n",
        "        return \"Woof!\"\n",
        " class Cat:\n",
        "    def sound(self):\n",
        "        return \"Meow!\"\n",
        " class Cow:\n",
        "    def sound(self):\n",
        "        return \"Moo!\"\n",
        "  Polymorphism: Same method name `sound()` behaves differently\n",
        " animals = [Dog(), Cat(), Cow()]\n",
        " for animal in animals:\n",
        "    print(animal.sound())\n",
        "  Output\n",
        " Woof!\n",
        " Meow!\n",
        " Moo!\n",
        "\n",
        "  Q15. What is an Abstract Class in Python?\n",
        "  -> An abstract class is a class that cannot be instantiated directly.\n",
        " It serves as a blueprint for other classes.\n",
        " Abstract classes can contain:\n",
        " Abstract methods\n",
        "→\n",
        " Methods declared but not implemented.\n",
        " Concrete methods\n",
        "→\n",
        " Normal methods with implementation.\n",
        " In Python, abstract classes are created using the\n",
        "abc\n",
        " (Abstract Base Class) module.\n",
        " Why Use Abstract Classes?\n",
        " 1. To define a common interface for all subclasses.\n",
        " 2. To enforce implementation of certain methods in subclasses.\n",
        " 3. To achieve abstraction in OOP (hiding implementation details).\n",
        " Example: Abstract Class in Python\n",
        " from abc import ABC, abstractmethod\n",
        "  Abstract Class\n",
        " class Vehicle(ABC):\n",
        "    \n",
        "    @abstractmethod\n",
        "    def start_engine(self):\n",
        "        pass   # abstract method (must be implemented by subclass)\n",
        "    def fuel_type(self):\n",
        "        return \"Petrol or Diesel\"   # concrete method\n",
        "  Subclass 1\n",
        " class Car(Vehicle):\n",
        " Q15. What is an Abstract Class in Python?\n",
        " def start_engine(self):\n",
        " return \"Car engine started with key\"\n",
        "  Subclass 2\n",
        " class Bike(Vehicle):\n",
        " def start_engine(self):\n",
        " return \"Bike engine started with self-start\"\n",
        "  Objects\n",
        " car = Car()\n",
        " bike = Bike()\n",
        " print(car.start_engine())   \n",
        " Car engine started with key\n",
        " print(bike.start_engine())  # Bike engine started with self-start\n",
        "\n",
        " Q16. What are the Advantages of Object-Oriented Programming (OOP)?\n",
        "\n",
        "\n"
      ],
      "metadata": {
        "id": "iYlM2p9X_L8x"
      }
    },
    {
      "cell_type": "markdown",
      "metadata": {
        "id": "45161fdd"
      },
      "source": [
        "-> Here are the key advantages of Object-Oriented Programming (OOP):\n",
        "\n",
        "1.  **Modularity and Reusability:** Objects are self-contained units. This makes code more modular, easier to manage, and reusable across different parts of the program or in other projects. You can create new objects or classes based on existing ones (inheritance).\n",
        "\n",
        "2.  **Maintainability:** Because code is organized into objects, it's easier to update, debug, and maintain. Changes in one part of the program are less likely to affect other parts due to encapsulation.\n",
        "\n",
        "3.  **Flexibility (Polymorphism):** Polymorphism allows objects of different classes to be treated through a common interface. This makes code more flexible and allows you to write generic functions that can work with various object types.\n",
        "\n",
        "4.  **Abstraction:** OOP allows you to hide complex implementation details and expose only the necessary features of an object. This simplifies the interaction with objects and reduces the cognitive load on developers.\n",
        "\n",
        "5.  **Encapsulation:** Encapsulation bundles data (attributes) and methods (functions) that operate on the data within a single unit (an object). This protects data from accidental modification and provides better control over how data is accessed and changed.\n",
        "\n",
        "6.  **Improved Software Development Productivity:** By using inheritance and polymorphism, developers can build new systems faster and more efficiently by reusing existing components.\n",
        "\n",
        "7.  **Better Structure and Organization:** OOP provides a clear structure for programs, making them easier to understand and navigate, especially for large and complex applications.\n",
        "\n",
        "8.  **Ease of Testing:** Since objects are independent units, they can be tested in isolation, making the testing process more straightforward and efficient.\n",
        "\n",
        "Example (Real-Life Analogy)\n",
        " Think of a Car class:\n",
        " Properties:\n",
        "color\n",
        " ,\n",
        "model\n",
        " ,\n",
        "engine_type\n",
        " Methods:\n",
        "start()\n",
        " ,\n",
        "stop()\n",
        " You can create multiple car objects (e.g., Honda, BMW) without rewriting the code.\n",
        " If you need a SportsCar, you can inherit from Car and just add extra features.\n",
        "\n",
        " Q17. What is the difference between a Class Variable and an Instance Variable?\n",
        "    ->"
      ]
    },
    {
      "cell_type": "markdown",
      "metadata": {
        "id": "37e61b7e"
      },
      "source": [
        "->\n",
        "| Feature         | Class Variable                                    | Instance Variable                                   |\n",
        "|-----------------|---------------------------------------------------|-----------------------------------------------------|\n",
        "| **Ownership**   | Class                                             | Instance                                            |\n",
        "| **Scope**       | Shared by all instances                           | Unique to each instance                             |\n",
        "| **Definition**  | Defined in class, outside methods                 | Defined in methods (e.g., `__init__`) with `self.`  |\n",
        "| **Access**      | `ClassName.variable` or `instance.variable`       | `instance.variable`                                 |\n",
        "| **Modification**| Affects all instances                             | Affects only that instance                          |\n",
        "| **Use Case**    | Shared data (constants, counters)                 | Instance-specific data (name, age)                  |\n",
        "\n",
        " Example in Python\n",
        " class Student:\n",
        "    # Class Variable (shared by all instances)\n",
        "    school_name = \"ABC Public School\"\n",
        "    \n",
        "    def __init__(self, name, grade):\n",
        "        # Instance Variables (unique to each object)\n",
        "        self.name = name\n",
        "        self.grade = grade\n",
        "  Creating two objects\n",
        " s1 = Student(\"Ritesh\", \"10th\")\n",
        " s2 = Student(\"Aditi\", \"12th\")\n",
        "  Accessing variables\n",
        " print(s1.name, s1.grade, s1.school_name)  # Ritesh 10th ABC Public School\n",
        " print(s2.name, s2.grade, s2.school_name)  # Aditi 12th ABC Public School\n",
        "  Changing the class variable\n",
        " Student.school_name = \"XYZ International School\"\n",
        " print(s1.school_name)  # XYZ International School\n",
        " print(s2.school_name)  # XYZ International School\n",
        "  Changing instance variable\n",
        " s1.grade = \"11th\"\n",
        " print(s1.grade)  # 11th (only for s1)\n",
        " print(s2.grade)  # 12th (unchanged for s2)\n",
        "\n",
        "  Q18. What is multiple inheritance in Python?\n"
      ]
    },
    {
      "cell_type": "markdown",
      "metadata": {
        "id": "7338837a"
      },
      "source": [
        "-> Multiple inheritance is a feature in OOP where a class can inherit attributes and methods from **more than one** parent class.\n",
        "\n",
        "In Python, this means a single child class can derive from multiple base classes.\n",
        "\n",
        "**How it works:**\n",
        "\n",
        "*   The child class inherits all public and protected members from all its parent classes.\n",
        "*   Python uses a **Method Resolution Order (MRO)** to determine the order in which base classes are searched when looking for a method. This is especially important when there are methods with the same name in different parent classes (Diamond Problem).\n",
        "\n",
        "**Example:**\n",
        "class Father:\n",
        "    def skill(self):\n",
        "        print(\"Gardening\")\n",
        " class Mother:\n",
        "    def skill(self):\n",
        "        print(\"Cooking\")\n",
        " class Child(Father, Mother):    # Multiple Inheritance\n",
        "    def skill(self):\n",
        "        print(\"Child also knows Coding\")\n",
        "  Object creation\n",
        " c = Child()\n",
        " c.skill()      # Child also knows Coding\n",
        "\n",
        "  19. Explain the purpose of ‘’str’ and ‘repr’ ‘ methods in Python\n"
      ]
    },
    {
      "cell_type": "markdown",
      "metadata": {
        "id": "65b633e3"
      },
      "source": [
        "Q19. Explain the purpose of `__str__` and `__repr__` methods in Python.\n",
        "\n",
        "-> Both `__str__` and `__repr__` are dunder methods in Python used to provide string representations of objects. However, they have different purposes and target audiences:\n",
        "\n",
        "*   **`__str__(self)`:**\n",
        "    *   **Purpose:** To provide a human-readable string representation of an object.\n",
        "    *   **Target Audience:** End-users.\n",
        "    *   **Should Return:** A \"pretty\" or informal string.\n",
        "    *   **Called by:** `str()`, `print()`, and `format()`.\n",
        "*   **`__repr__(self)`:**\n",
        "    *   **Purpose:** To provide an unambiguous string representation of an object, often used for debugging and development.\n",
        "    *   **Target Audience:** Developers.\n",
        "    *   **Should Return:** A string that, if possible, could be used to recreate the object (e.g., `ClassName(arg1, arg2)`).\n",
        "    *   **Called by:** `repr()`, and interactively when an object is evaluated in the Python console without `print()`. If `__str__` is not defined, `print()` will fall back to calling `__repr__`.\n",
        "\n",
        "**Key Difference:** `__repr__` is for developers to understand the object's state, while `__str__` is for users to have a friendly view of the object."
      ]
    },
    {
      "cell_type": "code",
      "metadata": {
        "id": "4dcbe2c1"
      },
      "source": [
        "class MyClass:\n",
        "    def __init__(self, x, y):\n",
        "        self.x = x\n",
        "        self.y = y\n",
        "\n",
        "    def __str__(self):\n",
        "        # Human-readable representation\n",
        "        return f\"MyClass object with x={self.x} and y={self.y}\"\n",
        "\n",
        "    def __repr__(self):\n",
        "        # Unambiguous representation (often code to recreate the object)\n",
        "        return f\"MyClass({self.x}, {self.y})\"\n",
        "\n",
        "# Create an object\n",
        "obj = MyClass(10, 20)\n",
        "\n",
        "# Using print() calls __str__()\n",
        "print(obj)\n",
        "\n",
        "# Using str() calls __str__()\n",
        "print(str(obj))\n",
        "\n",
        "# Using repr() calls __repr__()\n",
        "print(repr(obj))\n",
        "\n",
        "# In the Python interactive console, just typing the object name calls __repr__()\n",
        "# obj\n",
        "# Output would be: MyClass(10, 20)"
      ],
      "execution_count": null,
      "outputs": []
    },
    {
      "cell_type": "markdown",
      "source": [
        " 20. What is the significance of the ‘super()’ function in Python?\n",
        "      ->"
      ],
      "metadata": {
        "id": "8OX6KWSXBt_x"
      }
    },
    {
      "cell_type": "markdown",
      "metadata": {
        "id": "95b4eb39"
      },
      "source": [
        "Q20. What is the significance of the `super()` function in Python?\n",
        "\n",
        "-> The `super()` function in Python is a built-in function used to refer to the parent class (or base class) of the class you are currently in. It's primarily used in the context of inheritance to call methods from the parent class.\n",
        "\n",
        "**Significance:**\n",
        "\n",
        "1.  **Accessing Parent Class Methods:** It allows a child class to access and call methods defined in its parent class, even if the child class has overridden those methods.\n",
        "2.  **Avoiding Hardcoding Parent Class Names:** Instead of explicitly naming the parent class (e.g., `ParentClass.method(self, args)`), `super()` dynamically refers to the parent class based on the Method Resolution Order (MRO), making the code more maintainable, especially in cases of multiple inheritance.\n",
        "3.  **Calling Parent Constructors (`__init__`):** It's commonly used in the child class's `__init__` method to call the parent class's `__init__` method, ensuring that the parent class's attributes are properly initialized.\n",
        "\n",
        "**Example:**"
      ]
    },
    {
      "cell_type": "code",
      "metadata": {
        "id": "6d7811e7"
      },
      "source": [
        "class Parent:\n",
        "    def __init__(self, name):\n",
        "        self.name = name\n",
        "        print(\"Parent __init__ called\")\n",
        "\n",
        "    def greet(self):\n",
        "        print(f\"Hello from Parent, {self.name}!\")\n",
        "\n",
        "class Child(Parent):\n",
        "    def __init__(self, name, age):\n",
        "        # Call the parent class's __init__ method using super()\n",
        "        super().__init__(name)\n",
        "        self.age = age\n",
        "        print(\"Child __init__ called\")\n",
        "\n",
        "    def greet(self):\n",
        "        # Call the parent class's greet method using super()\n",
        "        super().greet()\n",
        "        print(f\"Hello from Child, I am {self.age} years old.\")\n",
        "\n",
        "# Create an object of the Child class\n",
        "child_obj = Child(\"Alice\", 10)\n",
        "\n",
        "# Call the greet method on the child object\n",
        "child_obj.greet()"
      ],
      "execution_count": null,
      "outputs": []
    },
    {
      "cell_type": "markdown",
      "source": [
        " 21. What is the significance of the del method in Python?\n",
        "    "
      ],
      "metadata": {
        "id": "K2OzdBawCBWO"
      }
    },
    {
      "cell_type": "markdown",
      "metadata": {
        "id": "93a40647"
      },
      "source": [
        "Q21. What is the significance of the `__del__` method in Python?\n",
        "\n",
        "-> The `__del__(self)` method, also known as the destructor, is a special method in Python that is called when an object is about to be garbage collected. This happens when all references to the object have been deleted, and the object is no longer reachable.\n",
        "\n",
        "**Significance:**\n",
        "\n",
        "*   **Resource Cleanup:** The primary use case for `__del__` is to perform cleanup operations for resources that an object holds, such as closing file handles, network connections, or releasing external memory resources.\n",
        "*   **Finalization:** It allows you to define actions that should be performed just before an object's memory is reclaimed.\n",
        "\n",
        "**Important Considerations:**\n",
        "\n",
        "*   **Unpredictability:** The exact timing of when `__del__` is called can be unpredictable, as it depends on Python's garbage collection mechanism. You cannot rely on it being called at a specific time or even at all in some cases (e.g., if the program exits abruptly).\n",
        "*   **Avoid Circular References:** Using `__del__` can sometimes lead to issues with circular references, where two or more objects hold references to each other, preventing them from being garbage collected.\n",
        "*   **Context Managers:** For resource management (like files), using `with` statements and context managers (implementing `__enter__` and `__exit__`) is generally preferred over `__del__` because they provide more reliable and deterministic cleanup.\n",
        "\n",
        "**Example:**"
      ]
    },
    {
      "cell_type": "code",
      "metadata": {
        "id": "c9ed4bff"
      },
      "source": [
        "class MyResource:\n",
        "    def __init__(self, name):\n",
        "        self.name = name\n",
        "        print(f\"Resource '{self.name}' created.\")\n",
        "\n",
        "    def __del__(self):\n",
        "        # This method is called when the object is garbage collected\n",
        "        print(f\"Resource '{self.name}' is being cleaned up (deleted).\")\n",
        "\n",
        "# Create an object\n",
        "resource1 = MyResource(\"File A\")\n",
        "\n",
        "# Assigning another reference\n",
        "resource2 = resource1\n",
        "\n",
        "# Deleting one reference\n",
        "del resource1\n",
        "\n",
        "# The __del__ method is not called yet because resource2 still references the object\n",
        "\n",
        "# Deleting the last reference will trigger __del__ (eventually)\n",
        "del resource2\n",
        "\n",
        "# The output \"Resource 'File A' is being cleaned up (deleted).\"\n",
        "# will appear when the garbage collector runs and collects the object.\n",
        "# This might not happen immediately after 'del resource2'.\n",
        "\n",
        "print(\"End of program.\")"
      ],
      "execution_count": null,
      "outputs": []
    },
    {
      "cell_type": "markdown",
      "source": [
        " 22. What is the difference between @staticmethod and @classmethod in Python?\n"
      ],
      "metadata": {
        "id": "kISUm-tMCTmp"
      }
    },
    {
      "cell_type": "markdown",
      "source": [
        " 23. How does polymorphism work in Python with inheritance?\n"
      ],
      "metadata": {
        "id": "smfr5sC7GYMR"
      }
    },
    {
      "cell_type": "markdown",
      "metadata": {
        "id": "6009944a"
      },
      "source": [
        "Q23. How does polymorphism work in Python with inheritance?\n",
        "\n",
        "-> Polymorphism, meaning \"many forms,\" is a core concept in OOP that allows objects of different classes to be treated as objects of a common superclass. In Python, polymorphism with inheritance primarily works through **method overriding**.\n",
        "\n",
        "When a child class inherits from a parent class and provides its own implementation for a method that is already defined in the parent class (method overriding), you can then call that method on objects of either the parent or child class. Python determines which specific method implementation to call at runtime based on the actual type of the object, not the type of the variable referencing it. This is known as **dynamic polymorphism** or **runtime polymorphism**.\n",
        "\n",
        "**How it works with Inheritance:**\n",
        "\n",
        "1.  **Parent Class:** Defines a method (e.g., `speak()`).\n",
        "2.  **Child Classes:** Inherit from the parent class and **override** the same method (`speak()`) to provide their own specific behavior.\n",
        "3.  **Common Interface:** Even though child classes have different implementations of `speak()`, they all share the same method name and signature as the parent class.\n",
        "4.  **Runtime Binding:** When you call the `speak()` method on a variable that could hold an object of the parent class or any of its child classes, Python figures out the object's actual type at runtime and executes the corresponding `speak()` method from that specific class.\n",
        "\n",
        "This allows you to write code that operates on a collection of objects of different types (as long as they share a common parent or interface) in a uniform way.\n",
        "\n",
        "**Example:**"
      ]
    },
    {
      "cell_type": "code",
      "metadata": {
        "id": "9b250fd5"
      },
      "source": [
        "class Animal:\n",
        "    def speak(self):\n",
        "        return \"Some generic sound\"\n",
        "\n",
        "class Dog(Animal):\n",
        "    def speak(self):\n",
        "        return \"Woof!\"\n",
        "\n",
        "class Cat(Animal):\n",
        "    def speak(self):\n",
        "        return \"Meow!\"\n",
        "\n",
        "class Duck(Animal):\n",
        "    # This class does not override speak, so it will use the parent's method\n",
        "    pass\n",
        "\n",
        "# Create a list of different animal objects\n",
        "animals = [Dog(), Cat(), Animal(), Duck()]\n",
        "\n",
        "# Iterate through the list and call the 'speak' method on each object\n",
        "# Polymorphism allows this loop to work even though the objects are of different types\n",
        "for animal in animals:\n",
        "    print(animal.speak())\n",
        "\n",
        "# Output demonstrates polymorphism:\n",
        "# Woof!\n",
        "# Meow!\n",
        "# Some generic sound\n",
        "# Some generic sound"
      ],
      "execution_count": null,
      "outputs": []
    },
    {
      "cell_type": "markdown",
      "source": [
        " 24. What is method chaining in Python OOP?\n"
      ],
      "metadata": {
        "id": "86ywxSeDGwDQ"
      }
    },
    {
      "cell_type": "markdown",
      "metadata": {
        "id": "81af23b9"
      },
      "source": [
        "Q24. What is method chaining in Python OOP?\n",
        "\n",
        "-> Method chaining is a programming technique where multiple method calls are strung together on the same object in a single line of code. Each method in the chain must return the object itself (or another object that supports the next method call) to allow the chaining to continue.\n",
        "\n",
        "This technique makes code more concise and can improve readability when a series of operations are performed sequentially on an object.\n",
        "\n",
        "**How it works:**\n",
        "\n",
        "1.  A method is called on an object.\n",
        "2.  That method performs its task and then `returns self` (the object itself).\n",
        "3.  The next method in the chain is then called on the returned object.\n",
        "4.  This process continues for each method in the chain.\n",
        "\n",
        "**Example:**"
      ]
    },
    {
      "cell_type": "code",
      "metadata": {
        "id": "732f236d"
      },
      "source": [
        "class Calculator:\n",
        "    def __init__(self, value=0):\n",
        "        self.value = value\n",
        "\n",
        "    def add(self, amount):\n",
        "        self.value += amount\n",
        "        return self  # Return the object itself to allow chaining\n",
        "\n",
        "    def subtract(self, amount):\n",
        "        self.value -= amount\n",
        "        return self  # Return the object itself\n",
        "\n",
        "    def multiply(self, amount):\n",
        "        self.value *= amount\n",
        "        return self  # Return the object itself\n",
        "\n",
        "    def get_result(self):\n",
        "        return self.value\n",
        "\n",
        "# Using method chaining\n",
        "result = Calculator(10).add(5).subtract(2).multiply(3).get_result()\n",
        "\n",
        "print(f\"The final result is: {result}\") # Output: The final result is: 39\n",
        "\n",
        "# Breakdown of the chain:\n",
        "# Calculator(10) -> Creates a Calculator object with value 10.\n",
        "# .add(5) -> Calls add(5) on the object, value becomes 15, returns the object.\n",
        "# .subtract(2) -> Calls subtract(2) on the returned object, value becomes 13, returns the object.\n",
        "# .multiply(3) -> Calls multiply(3) on the returned object, value becomes 39, returns the object.\n",
        "# .get_result() -> Calls get_result() on the returned object, returns the value 39."
      ],
      "execution_count": null,
      "outputs": []
    },
    {
      "cell_type": "markdown",
      "source": [
        " 25. What is the purpose of the call method in Python?\n"
      ],
      "metadata": {
        "id": "eia6tSgmHIsU"
      }
    },
    {
      "cell_type": "markdown",
      "metadata": {
        "id": "2d307fad"
      },
      "source": [
        "Q25. What is the purpose of the `__call__` method in Python?\n",
        "\n",
        "-> The `__call__(self, *args, **kwargs)` method is a special method in Python that allows an object of a class to be called like a function. If a class implements the `__call__` method, creating an instance of that class makes the instance \"callable.\"\n",
        "\n",
        "**Purpose:**\n",
        "\n",
        "*   **Making Objects Callable:** It allows you to create objects that behave like functions, which can be useful for creating function-like objects that maintain state or have more complex logic than a simple function.\n",
        "*   **Functors:** Objects that can be called like functions are sometimes referred to as \"functors.\"\n",
        "*   **Stateful Callables:** You can use `__call__` to create objects that remember information between calls (maintain state).\n",
        "\n",
        "**How it works:**\n",
        "\n",
        "When you call an instance of a class that has a `__call__` method (e.g., `my_object(arg1, arg2)`), Python automatically executes the `__call__` method of that object, passing the arguments you provided to the `__call__` method.\n",
        "\n",
        "**Example:**"
      ]
    },
    {
      "cell_type": "code",
      "metadata": {
        "id": "7aaf2680"
      },
      "source": [
        "class Multiplier:\n",
        "    def __init__(self, factor):\n",
        "        self.factor = factor\n",
        "\n",
        "    def __call__(self, number):\n",
        "        # This method is called when the object instance is called like a function\n",
        "        return number * self.factor\n",
        "\n",
        "# Create an instance of the Multiplier class\n",
        "multiply_by_5 = Multiplier(5)\n",
        "multiply_by_10 = Multiplier(10)\n",
        "\n",
        "# Call the objects like functions\n",
        "result1 = multiply_by_5(10)\n",
        "result2 = multiply_by_10(20)\n",
        "\n",
        "print(f\"10 multiplied by 5 is: {result1}\") # Output: 10 multiplied by 5 is: 50\n",
        "print(f\"20 multiplied by 10 is: {result2}\") # Output: 20 multiplied by 10 is: 200\n",
        "\n",
        "# The objects 'multiply_by_5' and 'multiply_by_10' are callable because\n",
        "# their class 'Multiplier' implements the __call__ method."
      ],
      "execution_count": null,
      "outputs": []
    },
    {
      "cell_type": "markdown",
      "source": [
        "#Practical questions:-\n",
        "1. Create a parent class Animal with a method speak() that prints a generic\n",
        " message. Create a child class Dog that overrides the speak() method to print \"Bark!\".\n",
        " \n",
        ""
      ],
      "metadata": {
        "id": "1FYBPx5JHh7n"
      }
    },
    {
      "cell_type": "code",
      "source": [],
      "metadata": {
        "id": "s_v9s6_iMpMC"
      },
      "execution_count": null,
      "outputs": []
    },
    {
      "cell_type": "code",
      "metadata": {
        "colab": {
          "base_uri": "https://localhost:8080/"
        },
        "id": "bc484991",
        "outputId": "0451a5de-ae14-4bc8-a2ee-6b7b29d4c422"
      },
      "source": [
        "# Create a parent class Animal\n",
        "class Animal:\n",
        "    def speak(self):\n",
        "        print(\"Generic animal sound\")\n",
        "\n",
        "# Create a child class Dog inheriting from Animal\n",
        "class Dog(Animal):\n",
        "    # Override the speak() method\n",
        "    def speak(self):\n",
        "        print(\"Bark!\")\n",
        "\n",
        "# Create instances of the classes\n",
        "generic_animal = Animal()\n",
        "my_dog = Dog()\n",
        "\n",
        "# Call the speak method on each object\n",
        "generic_animal.speak()\n",
        "my_dog.speak()"
      ],
      "execution_count": 1,
      "outputs": [
        {
          "output_type": "stream",
          "name": "stdout",
          "text": [
            "Generic animal sound\n",
            "Bark!\n"
          ]
        }
      ]
    },
    {
      "cell_type": "markdown",
      "source": [
        " 2. Write a program to create an abstract class Shape with a method area(). Derive\n",
        " classes Circle and Rectangle from it and implement the area() method in both.\n",
        " \n"
      ],
      "metadata": {
        "id": "b2hBFEXSNqaR"
      }
    },
    {
      "cell_type": "code",
      "metadata": {
        "colab": {
          "base_uri": "https://localhost:8080/"
        },
        "id": "3a82fe62",
        "outputId": "958a0824-22be-4413-99ce-fd1ad23c8307"
      },
      "source": [
        "from abc import ABC, abstractmethod\n",
        "import math\n",
        "\n",
        "# Create an abstract class Shape\n",
        "class Shape(ABC):\n",
        "    @abstractmethod\n",
        "    def area(self):\n",
        "        pass\n",
        "\n",
        "# Derive a class Circle from Shape\n",
        "class Circle(Shape):\n",
        "    def __init__(self, radius):\n",
        "        self.radius = radius\n",
        "\n",
        "    # Implement the area() method for Circle\n",
        "    def area(self):\n",
        "        return math.pi * self.radius**2\n",
        "\n",
        "# Derive a class Rectangle from Shape\n",
        "class Rectangle(Shape):\n",
        "    def __init__(self, length, width):\n",
        "        self.length = length\n",
        "        self.width = width\n",
        "\n",
        "    # Implement the area() method for Rectangle\n",
        "    def area(self):\n",
        "        return self.length * self.width\n",
        "\n",
        "# Create instances of the derived classes\n",
        "circle = Circle(5)\n",
        "rectangle = Rectangle(4, 6)\n",
        "\n",
        "# Calculate and print the area of each shape\n",
        "print(f\"Area of Circle: {circle.area()}\")\n",
        "print(f\"Area of Rectangle: {rectangle.area()}\")\n",
        "\n",
        "# Trying to instantiate the abstract class directly would raise a TypeError\n",
        "# abstract_shape = Shape()"
      ],
      "execution_count": 2,
      "outputs": [
        {
          "output_type": "stream",
          "name": "stdout",
          "text": [
            "Area of Circle: 78.53981633974483\n",
            "Area of Rectangle: 24\n"
          ]
        }
      ]
    },
    {
      "cell_type": "markdown",
      "source": [
        " 3. Implement a multi-level inheritance scenario where a class Vehicle has an\n",
        " attribute type. Derive a class Car and further derive a class ElectricCar that adds a\n",
        " battery attribute\n",
        " \n"
      ],
      "metadata": {
        "id": "joQKjwlUN2TA"
      }
    },
    {
      "cell_type": "code",
      "metadata": {
        "colab": {
          "base_uri": "https://localhost:8080/"
        },
        "id": "a4cde1d6",
        "outputId": "54a31efd-4522-47bf-b4ca-57715e5faed8"
      },
      "source": [
        "# Parent class (Base class)\n",
        "class Vehicle:\n",
        "    def __init__(self, vehicle_type):\n",
        "        self.type = vehicle_type\n",
        "        print(f\"Vehicle of type '{self.type}' created.\")\n",
        "\n",
        "    def display_type(self):\n",
        "        print(f\"This is a {self.type}.\")\n",
        "\n",
        "# Child class inheriting from Vehicle (Intermediate level)\n",
        "class Car(Vehicle):\n",
        "    def __init__(self, vehicle_type, model):\n",
        "        super().__init__(vehicle_type) # Call parent constructor\n",
        "        self.model = model\n",
        "        print(f\"Car model '{self.model}' created.\")\n",
        "\n",
        "    def display_model(self):\n",
        "        print(f\"Model: {self.model}\")\n",
        "\n",
        "# Grandchild class inheriting from Car (Lowest level)\n",
        "class ElectricCar(Car):\n",
        "    def __init__(self, vehicle_type, model, battery_kwh):\n",
        "        super().__init__(vehicle_type, model) # Call parent constructor\n",
        "        self.battery_kwh = battery_kwh\n",
        "        print(f\"Electric Car with battery capacity {self.battery_kwh} kWh created.\")\n",
        "\n",
        "    def display_battery(self):\n",
        "        print(f\"Battery Capacity: {self.battery_kwh} kWh\")\n",
        "\n",
        "# Create an instance of the ElectricCar (demonstrating multi-level inheritance)\n",
        "my_electric_car = ElectricCar(\"Electric Car\", \"Tesla Model 3\", 75)\n",
        "\n",
        "# Access attributes and methods from all levels\n",
        "my_electric_car.display_type()\n",
        "my_electric_car.display_model()\n",
        "my_electric_car.display_battery()"
      ],
      "execution_count": 3,
      "outputs": [
        {
          "output_type": "stream",
          "name": "stdout",
          "text": [
            "Vehicle of type 'Electric Car' created.\n",
            "Car model 'Tesla Model 3' created.\n",
            "Electric Car with battery capacity 75 kWh created.\n",
            "This is a Electric Car.\n",
            "Model: Tesla Model 3\n",
            "Battery Capacity: 75 kWh\n"
          ]
        }
      ]
    },
    {
      "cell_type": "markdown",
      "source": [
        "4. Demonstrate polymorphism by creating a base class Bird with a method fly().\n",
        " Create two derived classes Sparrow and Penguin that override the fly() method.\n",
        " "
      ],
      "metadata": {
        "id": "HjTH3hgJOABn"
      }
    },
    {
      "cell_type": "code",
      "metadata": {
        "colab": {
          "base_uri": "https://localhost:8080/"
        },
        "id": "2368395a",
        "outputId": "4c91edf1-10d6-40e8-a800-9e0a5018f52d"
      },
      "source": [
        "# Base class\n",
        "class Bird:\n",
        "    def fly(self):\n",
        "        print(\"Some birds can fly\")\n",
        "\n",
        "# Derived class 1\n",
        "class Sparrow(Bird):\n",
        "    def fly(self):\n",
        "        print(\"Sparrow flies high\")\n",
        "\n",
        "# Derived class 2\n",
        "class Penguin(Bird):\n",
        "    def fly(self):\n",
        "        print(\"Penguins cannot fly, they swim\")\n",
        "\n",
        "# Demonstrate polymorphism\n",
        "# Create a list of different bird objects\n",
        "birds = [Bird(), Sparrow(), Penguin()]\n",
        "\n",
        "# Iterate through the list and call the 'fly' method on each object\n",
        "# Polymorphism allows this loop to work even though the objects are of different types\n",
        "for bird in birds:\n",
        "    bird.fly()"
      ],
      "execution_count": 4,
      "outputs": [
        {
          "output_type": "stream",
          "name": "stdout",
          "text": [
            "Some birds can fly\n",
            "Sparrow flies high\n",
            "Penguins cannot fly, they swim\n"
          ]
        }
      ]
    },
    {
      "cell_type": "markdown",
      "source": [
        " 5. Write a program to demonstrate encapsulation by creating a class BankAccount\n",
        " with private attributes balance and methods to deposit, withdraw, and check\n",
        " balance."
      ],
      "metadata": {
        "id": "NWi9XbURONXu"
      }
    },
    {
      "cell_type": "code",
      "metadata": {
        "colab": {
          "base_uri": "https://localhost:8080/"
        },
        "id": "214f29aa",
        "outputId": "c7138a3c-7d07-4b6f-b60a-5670d6d68e21"
      },
      "source": [
        "class BankAccount:\n",
        "    def __init__(self, initial_balance):\n",
        "        # Private attribute for balance (using name mangling)\n",
        "        self.__balance = initial_balance\n",
        "        print(f\"Account created with initial balance: {self.__balance}\")\n",
        "\n",
        "    # Public method to deposit funds\n",
        "    def deposit(self, amount):\n",
        "        if amount > 0:\n",
        "            self.__balance += amount\n",
        "            print(f\"Deposited: {amount}. New balance: {self.__balance}\")\n",
        "        else:\n",
        "            print(\"Deposit amount must be positive.\")\n",
        "\n",
        "    # Public method to withdraw funds\n",
        "    def withdraw(self, amount):\n",
        "        if amount > 0 and amount <= self.__balance:\n",
        "            self.__balance -= amount\n",
        "            print(f\"Withdrew: {amount}. New balance: {self.__balance}\")\n",
        "        elif amount > self.__balance:\n",
        "            print(\"Insufficient funds.\")\n",
        "        else:\n",
        "            print(\"Withdrawal amount must be positive.\")\n",
        "\n",
        "    # Public method to check the balance (getter)\n",
        "    def get_balance(self):\n",
        "        return self.__balance\n",
        "\n",
        "# Create an instance of the BankAccount class\n",
        "account = BankAccount(1000)\n",
        "\n",
        "# Interact with the account using public methods (demonstrating encapsulation)\n",
        "account.deposit(500)\n",
        "account.withdraw(200)\n",
        "print(f\"Current balance: {account.get_balance()}\")\n",
        "account.withdraw(2000) # This will show insufficient funds\n",
        "\n",
        "# Trying to access the private attribute directly will result in an AttributeError\n",
        "# print(account.__balance)"
      ],
      "execution_count": 5,
      "outputs": [
        {
          "output_type": "stream",
          "name": "stdout",
          "text": [
            "Account created with initial balance: 1000\n",
            "Deposited: 500. New balance: 1500\n",
            "Withdrew: 200. New balance: 1300\n",
            "Current balance: 1300\n",
            "Insufficient funds.\n"
          ]
        }
      ]
    },
    {
      "cell_type": "markdown",
      "source": [
        " 6. Demonstrate runtime polymorphism using a method play() in a base class\n",
        " Instrument. Derive classes Guitar and Piano that implement their own version of\n",
        " play()"
      ],
      "metadata": {
        "id": "FTN2IdmCOZdl"
      }
    },
    {
      "cell_type": "code",
      "metadata": {
        "colab": {
          "base_uri": "https://localhost:8080/"
        },
        "id": "77277f91",
        "outputId": "17a6c848-bcf8-4b9f-8145-c69843337096"
      },
      "source": [
        "# Base class\n",
        "class Instrument:\n",
        "    def play(self):\n",
        "        print(\"Playing a generic instrument sound\")\n",
        "\n",
        "# Derived class 1\n",
        "class Guitar(Instrument):\n",
        "    def play(self):\n",
        "        print(\"Strumming the guitar\")\n",
        "\n",
        "# Derived class 2\n",
        "class Piano(Instrument):\n",
        "    def play(self):\n",
        "        print(\"Playing the piano keys\")\n",
        "\n",
        "# Demonstrate runtime polymorphism\n",
        "# Create a list of different instrument objects\n",
        "instruments = [Instrument(), Guitar(), Piano()]\n",
        "\n",
        "# Iterate through the list and call the 'play' method on each object\n",
        "# Runtime polymorphism allows this loop to work even though the objects are of different types\n",
        "for instrument in instruments:\n",
        "    instrument.play()"
      ],
      "execution_count": 6,
      "outputs": [
        {
          "output_type": "stream",
          "name": "stdout",
          "text": [
            "Playing a generic instrument sound\n",
            "Strumming the guitar\n",
            "Playing the piano keys\n"
          ]
        }
      ]
    },
    {
      "cell_type": "markdown",
      "source": [
        " 7. Create a class MathOperations with a class method add_numbers() to add two\n",
        " numbers and a static method subtract_numbers() to subtract two numbers.\n",
        " \n",
        ""
      ],
      "metadata": {
        "id": "Pw3j5a3kOhK1"
      }
    },
    {
      "cell_type": "code",
      "metadata": {
        "colab": {
          "base_uri": "https://localhost:8080/"
        },
        "id": "7d094e1f",
        "outputId": "4b160b24-3f8a-4990-eb47-b6543d173460"
      },
      "source": [
        "class MathOperations:\n",
        "    @classmethod\n",
        "    def add_numbers(cls, x, y):\n",
        "        \"\"\"Class method to add two numbers.\"\"\"\n",
        "        print(f\"Using class method: Adding {x} and {y}\")\n",
        "        return x + y\n",
        "\n",
        "    @staticmethod\n",
        "    def subtract_numbers(x, y):\n",
        "        \"\"\"Static method to subtract two numbers.\"\"\"\n",
        "        print(f\"Using static method: Subtracting {y} from {x}\")\n",
        "        return x - y\n",
        "\n",
        "# Using the class method\n",
        "sum_result = MathOperations.add_numbers(10, 5)\n",
        "print(f\"Sum: {sum_result}\")\n",
        "\n",
        "# Using the static method\n",
        "difference_result = MathOperations.subtract_numbers(10, 5)\n",
        "print(f\"Difference: {difference_result}\")\n",
        "\n",
        "# You can also call them on an instance, but it's less common for such methods\n",
        "# math_obj = MathOperations()\n",
        "# print(math_obj.add_numbers(20, 10))\n",
        "# print(math_obj.subtract_numbers(20, 10))"
      ],
      "execution_count": 7,
      "outputs": [
        {
          "output_type": "stream",
          "name": "stdout",
          "text": [
            "Using class method: Adding 10 and 5\n",
            "Sum: 15\n",
            "Using static method: Subtracting 5 from 10\n",
            "Difference: 5\n"
          ]
        }
      ]
    },
    {
      "cell_type": "markdown",
      "source": [
        " 8. Implement a class Person with a class method to count the total number of\n",
        " persons created"
      ],
      "metadata": {
        "id": "r8FAlqESOo55"
      }
    },
    {
      "cell_type": "code",
      "metadata": {
        "colab": {
          "base_uri": "https://localhost:8080/"
        },
        "id": "8930337f",
        "outputId": "b7c35c32-3ab3-42ec-8914-4310208e8169"
      },
      "source": [
        "class Person:\n",
        "    # Class variable to keep track of the number of instances\n",
        "    number_of_persons = 0\n",
        "\n",
        "    def __init__(self, name):\n",
        "        self.name = name\n",
        "        # Increment the class variable each time a new instance is created\n",
        "        Person.number_of_persons += 1\n",
        "\n",
        "    @classmethod\n",
        "    def count_persons(cls):\n",
        "        \"\"\"Class method to return the total number of Person objects created.\"\"\"\n",
        "        return cls.number_of_persons\n",
        "\n",
        "# Create some Person objects\n",
        "person1 = Person(\"Alice\")\n",
        "person2 = Person(\"Bob\")\n",
        "person3 = Person(\"Charlie\")\n",
        "\n",
        "# Use the class method to get the total count\n",
        "total_persons = Person.count_persons()\n",
        "\n",
        "print(f\"Total number of persons created: {total_persons}\")\n",
        "\n",
        "# You can also access the class variable directly, but the class method is often preferred\n",
        "# print(f\"Total number of persons created (direct access): {Person.number_of_persons}\")"
      ],
      "execution_count": 8,
      "outputs": [
        {
          "output_type": "stream",
          "name": "stdout",
          "text": [
            "Total number of persons created: 3\n"
          ]
        }
      ]
    },
    {
      "cell_type": "markdown",
      "source": [
        " 9. Write a class Fraction with attributes numerator and denominator. Override the str\n",
        " method to display the fraction as \"numerator/denominator\""
      ],
      "metadata": {
        "id": "kMFk6mbXO8ko"
      }
    },
    {
      "cell_type": "code",
      "metadata": {
        "colab": {
          "base_uri": "https://localhost:8080/"
        },
        "id": "b38c7604",
        "outputId": "e65f9bb3-0cba-44a2-f43a-363292a0c7ac"
      },
      "source": [
        "class Fraction:\n",
        "    def __init__(self, numerator, denominator):\n",
        "        self.numerator = numerator\n",
        "        self.denominator = denominator\n",
        "\n",
        "    def __str__(self):\n",
        "        \"\"\"Override the __str__ method to display the fraction.\"\"\"\n",
        "        return f\"{self.numerator}/{self.denominator}\"\n",
        "\n",
        "# Create a Fraction object\n",
        "my_fraction = Fraction(3, 4)\n",
        "\n",
        "# Printing the object will call the __str__ method\n",
        "print(my_fraction)"
      ],
      "execution_count": 9,
      "outputs": [
        {
          "output_type": "stream",
          "name": "stdout",
          "text": [
            "3/4\n"
          ]
        }
      ]
    },
    {
      "cell_type": "markdown",
      "source": [
        " 10. Demonstrate operator overloading by creating a class Vector and overriding the\n",
        " add method to add two vectors."
      ],
      "metadata": {
        "id": "hImYDU7PPEHa"
      }
    },
    {
      "cell_type": "code",
      "metadata": {
        "colab": {
          "base_uri": "https://localhost:8080/"
        },
        "id": "43e9e1f1",
        "outputId": "f425bb90-5fc9-4d5d-d196-3c9327bdbdc0"
      },
      "source": [
        "class Vector:\n",
        "    def __init__(self, x, y):\n",
        "        self.x = x\n",
        "        self.y = y\n",
        "\n",
        "    def __str__(self):\n",
        "        \"\"\"String representation for easy printing.\"\"\"\n",
        "        return f\"Vector({self.x}, {self.y})\"\n",
        "\n",
        "    def __add__(self, other):\n",
        "        \"\"\"Override the + operator to add two Vector objects.\"\"\"\n",
        "        if isinstance(other, Vector):\n",
        "            return Vector(self.x + other.x, self.y + other.y)\n",
        "        else:\n",
        "            raise TypeError(\"Can only add a Vector object to another Vector object\")\n",
        "\n",
        "# Create two Vector objects\n",
        "vector1 = Vector(2, 3)\n",
        "vector2 = Vector(1, -1)\n",
        "\n",
        "# Add the two vectors using the + operator (operator overloading)\n",
        "vector3 = vector1 + vector2\n",
        "\n",
        "# Print the resulting vector\n",
        "print(f\"{vector1} + {vector2} = {vector3}\")\n",
        "\n",
        "# Example of trying to add a non-Vector object (will raise a TypeError)\n",
        "# try:\n",
        "#     result = vector1 + 5\n",
        "# except TypeError as e:\n",
        "#     print(e)"
      ],
      "execution_count": 10,
      "outputs": [
        {
          "output_type": "stream",
          "name": "stdout",
          "text": [
            "Vector(2, 3) + Vector(1, -1) = Vector(3, 2)\n"
          ]
        }
      ]
    },
    {
      "cell_type": "markdown",
      "source": [
        "11. Create a class Person with attributes name and age. Add a method greet() that\n",
        " prints \"Hello, my name is {name} and I am {age} years old.\""
      ],
      "metadata": {
        "id": "nH-d8rzzPMbM"
      }
    },
    {
      "cell_type": "code",
      "metadata": {
        "colab": {
          "base_uri": "https://localhost:8080/"
        },
        "id": "2ac5c0ce",
        "outputId": "a18a45b5-7728-4847-fb80-f0ce8c8596da"
      },
      "source": [
        "class Person:\n",
        "    def __init__(self, name, age):\n",
        "        self.name = name\n",
        "        self.age = age\n",
        "\n",
        "    def greet(self):\n",
        "        \"\"\"Prints a greeting using the person's name and age.\"\"\"\n",
        "        print(f\"Hello, my name is {self.name} and I am {self.age} years old.\")\n",
        "\n",
        "# Create an instance of the Person class\n",
        "person1 = Person(\"Alice\", 30)\n",
        "\n",
        "# Call the greet method\n",
        "person1.greet()"
      ],
      "execution_count": 11,
      "outputs": [
        {
          "output_type": "stream",
          "name": "stdout",
          "text": [
            "Hello, my name is Alice and I am 30 years old.\n"
          ]
        }
      ]
    },
    {
      "cell_type": "markdown",
      "source": [
        " 12. Implement a class Student with attributes name and grades. Create a method\n",
        " average_grade() to compute the average of the grades.\n",
        " \n"
      ],
      "metadata": {
        "id": "I6STTjHnPZRg"
      }
    },
    {
      "cell_type": "code",
      "metadata": {
        "colab": {
          "base_uri": "https://localhost:8080/"
        },
        "id": "39050788",
        "outputId": "9f1fd98b-7942-486f-ae1c-f2841ab1438b"
      },
      "source": [
        "class Student:\n",
        "    def __init__(self, name, grades):\n",
        "        self.name = name\n",
        "        self.grades = grades # grades is expected to be a list of numbers\n",
        "\n",
        "    def average_grade(self):\n",
        "        \"\"\"Computes the average of the student's grades.\"\"\"\n",
        "        if not self.grades: # Handle the case where the grades list is empty\n",
        "            return 0\n",
        "        return sum(self.grades) / len(self.grades)\n",
        "\n",
        "# Create an instance of the Student class\n",
        "student1 = Student(\"Bob\", [85, 90, 78, 92])\n",
        "\n",
        "# Compute and print the average grade\n",
        "average = student1.average_grade()\n",
        "print(f\"{student1.name}'s average grade is: {average}\")\n",
        "\n",
        "# Example with an empty grades list\n",
        "student2 = Student(\"Alice\", [])\n",
        "average2 = student2.average_grade()\n",
        "print(f\"{student2.name}'s average grade is: {average2}\")"
      ],
      "execution_count": 12,
      "outputs": [
        {
          "output_type": "stream",
          "name": "stdout",
          "text": [
            "Bob's average grade is: 86.25\n",
            "Alice's average grade is: 0\n"
          ]
        }
      ]
    },
    {
      "cell_type": "markdown",
      "source": [
        "13. Create a class Rectangle with methods set_dimensions() to set the dimensions\n",
        " and area() to calculate the area."
      ],
      "metadata": {
        "id": "_RTqbOZgPfny"
      }
    },
    {
      "cell_type": "code",
      "metadata": {
        "colab": {
          "base_uri": "https://localhost:8080/"
        },
        "id": "a5b1c5a5",
        "outputId": "d2e42e51-caa2-4f54-9279-51f2255e68e5"
      },
      "source": [
        "class Rectangle:\n",
        "    def __init__(self):\n",
        "        self.length = 0\n",
        "        self.width = 0\n",
        "\n",
        "    def set_dimensions(self, length, width):\n",
        "        \"\"\"Sets the length and width of the rectangle.\"\"\"\n",
        "        if length >= 0 and width >= 0:\n",
        "            self.length = length\n",
        "            self.width = width\n",
        "            print(f\"Dimensions set to: Length = {self.length}, Width = {self.width}\")\n",
        "        else:\n",
        "            print(\"Dimensions must be non-negative.\")\n",
        "\n",
        "    def area(self):\n",
        "        \"\"\"Calculates and returns the area of the rectangle.\"\"\"\n",
        "        return self.length * self.width\n",
        "\n",
        "# Create an instance of the Rectangle class\n",
        "rectangle1 = Rectangle()\n",
        "\n",
        "# Set the dimensions using the set_dimensions method\n",
        "rectangle1.set_dimensions(5, 10)\n",
        "\n",
        "# Calculate and print the area\n",
        "area_of_rectangle = rectangle1.area()\n",
        "print(f\"Area of the rectangle: {area_of_rectangle}\")\n",
        "\n",
        "# Example with negative dimensions\n",
        "rectangle1.set_dimensions(-2, 5)"
      ],
      "execution_count": 13,
      "outputs": [
        {
          "output_type": "stream",
          "name": "stdout",
          "text": [
            "Dimensions set to: Length = 5, Width = 10\n",
            "Area of the rectangle: 50\n",
            "Dimensions must be non-negative.\n"
          ]
        }
      ]
    },
    {
      "cell_type": "markdown",
      "source": [
        "14. Create a class Employee with a method calculate_salary() that computes the\n",
        " salary based on hours worked and hourly rate. Create a derived class Manager that\n",
        " adds a bonus to the salary."
      ],
      "metadata": {
        "id": "9QOAvQ8vPrlt"
      }
    },
    {
      "cell_type": "code",
      "metadata": {
        "colab": {
          "base_uri": "https://localhost:8080/"
        },
        "id": "3110f74e",
        "outputId": "dfedaa76-ad0f-4353-89a7-4224fb3cc67c"
      },
      "source": [
        "# Base class\n",
        "class Employee:\n",
        "    def __init__(self, name, hours_worked, hourly_rate):\n",
        "        self.name = name\n",
        "        self.hours_worked = hours_worked\n",
        "        self.hourly_rate = hourly_rate\n",
        "\n",
        "    def calculate_salary(self):\n",
        "        \"\"\"Computes the salary based on hours worked and hourly rate.\"\"\"\n",
        "        return self.hours_worked * self.hourly_rate\n",
        "\n",
        "# Derived class inheriting from Employee\n",
        "class Manager(Employee):\n",
        "    def __init__(self, name, hours_worked, hourly_rate, bonus):\n",
        "        super().__init__(name, hours_worked, hourly_rate) # Call parent constructor\n",
        "        self.bonus = bonus\n",
        "\n",
        "    def calculate_salary(self):\n",
        "        \"\"\"Overrides the parent method to add a bonus to the salary.\"\"\"\n",
        "        base_salary = super().calculate_salary() # Get the base salary from the parent class\n",
        "        return base_salary + self.bonus\n",
        "\n",
        "# Create instances of the classes\n",
        "employee1 = Employee(\"Alice\", 40, 20)\n",
        "manager1 = Manager(\"Bob\", 40, 25, 500)\n",
        "\n",
        "# Calculate and print the salary for each\n",
        "print(f\"{employee1.name}'s salary: ${employee1.calculate_salary()}\")\n",
        "print(f\"{manager1.name}'s salary: ${manager1.calculate_salary()}\")"
      ],
      "execution_count": 14,
      "outputs": [
        {
          "output_type": "stream",
          "name": "stdout",
          "text": [
            "Alice's salary: $800\n",
            "Bob's salary: $1500\n"
          ]
        }
      ]
    },
    {
      "cell_type": "markdown",
      "source": [
        " 15. Create a class Product with attributes name, price, and quantity. Implement a\n",
        " method total_price() that calculates the total price of the product.\n",
        " \n"
      ],
      "metadata": {
        "id": "85X8IUJ7P5ZI"
      }
    },
    {
      "cell_type": "code",
      "metadata": {
        "colab": {
          "base_uri": "https://localhost:8080/"
        },
        "id": "62341062",
        "outputId": "d586aff8-e917-4725-8b6b-f946209ed9d1"
      },
      "source": [
        "class Product:\n",
        "    def __init__(self, name, price, quantity):\n",
        "        self.name = name\n",
        "        self.price = price\n",
        "        self.quantity = quantity\n",
        "\n",
        "    def total_price(self):\n",
        "        \"\"\"Calculates the total price of the product.\"\"\"\n",
        "        return self.price * self.quantity\n",
        "\n",
        "# Create an instance of the Product class\n",
        "product1 = Product(\"Laptop\", 1200, 1)\n",
        "product2 = Product(\"Mouse\", 25, 5)\n",
        "\n",
        "# Calculate and print the total price for each product\n",
        "print(f\"Total price for {product1.name}: ${product1.total_price()}\")\n",
        "print(f\"Total price for {product2.name}: ${product2.total_price()}\")"
      ],
      "execution_count": 15,
      "outputs": [
        {
          "output_type": "stream",
          "name": "stdout",
          "text": [
            "Total price for Laptop: $1200\n",
            "Total price for Mouse: $125\n"
          ]
        }
      ]
    },
    {
      "cell_type": "markdown",
      "source": [
        "16. Create a class Animal with an abstract method sound(). Create two derived\n",
        " classes Cow and Sheep that implement the sound() method.\n",
        " "
      ],
      "metadata": {
        "id": "hMd6VzRqQDcs"
      }
    },
    {
      "cell_type": "code",
      "metadata": {
        "colab": {
          "base_uri": "https://localhost:8080/"
        },
        "id": "584e896c",
        "outputId": "97b3efe2-42a9-40ab-f7c1-5981c91c1a6d"
      },
      "source": [
        "from abc import ABC, abstractmethod\n",
        "\n",
        "# Create an abstract class Animal\n",
        "class Animal(ABC):\n",
        "    @abstractmethod\n",
        "    def sound(self):\n",
        "        pass\n",
        "\n",
        "# Derived class Cow inheriting from Animal\n",
        "class Cow(Animal):\n",
        "    def sound(self):\n",
        "        return \"Moo!\"\n",
        "\n",
        "# Derived class Sheep inheriting from Animal\n",
        "class Sheep(Animal):\n",
        "    def sound(self):\n",
        "        return \"Baa!\"\n",
        "\n",
        "# Create instances of the derived classes\n",
        "cow = Cow()\n",
        "sheep = Sheep()\n",
        "\n",
        "# Call the sound method on each object\n",
        "print(f\"Cow says: {cow.sound()}\")\n",
        "print(f\"Sheep says: {sheep.sound()}\")"
      ],
      "execution_count": 16,
      "outputs": [
        {
          "output_type": "stream",
          "name": "stdout",
          "text": [
            "Cow says: Moo!\n",
            "Sheep says: Baa!\n"
          ]
        }
      ]
    },
    {
      "cell_type": "markdown",
      "source": [
        "17. Create a class Book with attributes title, author, and year_published. Add a\n",
        " method get_book_info() that returns a formatted string with the book's details.\n",
        " "
      ],
      "metadata": {
        "id": "766Rc2gnQNgp"
      }
    },
    {
      "cell_type": "code",
      "metadata": {
        "colab": {
          "base_uri": "https://localhost:8080/"
        },
        "id": "b98b808f",
        "outputId": "ac007f1f-9ddb-4d99-fcfb-365f7d792c25"
      },
      "source": [
        "class Book:\n",
        "    def __init__(self, title, author, year_published):\n",
        "        self.title = title\n",
        "        self.author = author\n",
        "        self.year_published = year_published\n",
        "\n",
        "    def get_book_info(self):\n",
        "        \"\"\"Returns a formatted string with the book's details.\"\"\"\n",
        "        return f\"'{self.title}' by {self.author} ({self.year_published})\"\n",
        "\n",
        "# Create an instance of the Book class\n",
        "book1 = Book(\"The Hitchhiker's Guide to the Galaxy\", \"Douglas Adams\", 1979)\n",
        "\n",
        "# Get and print the book information\n",
        "book_info = book1.get_book_info()\n",
        "print(book_info)"
      ],
      "execution_count": 17,
      "outputs": [
        {
          "output_type": "stream",
          "name": "stdout",
          "text": [
            "'The Hitchhiker's Guide to the Galaxy' by Douglas Adams (1979)\n"
          ]
        }
      ]
    },
    {
      "cell_type": "markdown",
      "source": [
        "18. Create a class House with attributes address and price. Create a derived class\n",
        " Mansion that adds an attribute number_of_rooms.\n",
        " \n",
        ""
      ],
      "metadata": {
        "id": "B2y9ISf8QXR6"
      }
    },
    {
      "cell_type": "code",
      "metadata": {
        "colab": {
          "base_uri": "https://localhost:8080/"
        },
        "id": "444a032e",
        "outputId": "f704c2ee-c4cd-4227-c26b-45b6b6be5009"
      },
      "source": [
        "# Base class\n",
        "class House:\n",
        "    def __init__(self, address, price):\n",
        "        self.address = address\n",
        "        self.price = price\n",
        "        print(f\"House at {self.address} created with price ${self.price}.\")\n",
        "\n",
        "    def display_info(self):\n",
        "        print(f\"Address: {self.address}\")\n",
        "        print(f\"Price: ${self.price}\")\n",
        "\n",
        "# Derived class inheriting from House\n",
        "class Mansion(House):\n",
        "    def __init__(self, address, price, number_of_rooms):\n",
        "        super().__init__(address, price) # Call parent constructor\n",
        "        self.number_of_rooms = number_of_rooms\n",
        "        print(f\"Mansion created with {self.number_of_rooms} rooms.\")\n",
        "\n",
        "    def display_info(self):\n",
        "        # Override and extend the parent's display_info\n",
        "        super().display_info()\n",
        "        print(f\"Number of Rooms: {self.number_of_rooms}\")\n",
        "\n",
        "# Create instances of the classes\n",
        "my_house = House(\"123 Main St\", 300000)\n",
        "print(\"-\" * 20)\n",
        "my_mansion = Mansion(\"456 Oak Ave\", 1500000, 15)\n",
        "\n",
        "print(\"\\nHouse Info:\")\n",
        "my_house.display_info()\n",
        "\n",
        "print(\"\\nMansion Info:\")\n",
        "my_mansion.display_info()"
      ],
      "execution_count": 18,
      "outputs": [
        {
          "output_type": "stream",
          "name": "stdout",
          "text": [
            "House at 123 Main St created with price $300000.\n",
            "--------------------\n",
            "House at 456 Oak Ave created with price $1500000.\n",
            "Mansion created with 15 rooms.\n",
            "\n",
            "House Info:\n",
            "Address: 123 Main St\n",
            "Price: $300000\n",
            "\n",
            "Mansion Info:\n",
            "Address: 456 Oak Ave\n",
            "Price: $1500000\n",
            "Number of Rooms: 15\n"
          ]
        }
      ]
    }
  ]
}